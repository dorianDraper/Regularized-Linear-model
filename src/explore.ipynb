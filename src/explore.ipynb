{
    "cells": [
        {
            "cell_type": "markdown",
            "metadata": {},
            "source": [
                "<h1 style=\"Comic Sans MS; text-align: center; color: #FFC300\">Regularized Linear Regression: US demographic and health data</h1>\n",
                "<h3 id=\"step1\" style=\"font-family: Comic Sans MS; color: #68FF33\">1. Problem statement and data collection</h3>\n",
                "<p style=\"color: pink\">Sociodemographic and health resource data have been collected by county in the United States and we want to find out if there is any relationship between health resources and sociodemographic data. To do this, we have to:\n",
                "</p>\n",
                "<ul style=\"color: pink\">\n",
                "    <li>set a target variable (health-related) to conduct the analysis.</li>\n",
                "    <li>perform EDA so we keep the variables that are strictly necessary and eliminate those that are not relevant or do not provide information.</li>\n",
                "    <li>start solving the problem by implementing a linear regression model and analyze the results. Then, using the same data and default attributes, build a Lasso model and compare the results with the baseline linear regression.</li>\n",
                "    <li>analyze how R-squared evolves when the hyperparameter of the Lasso model changes (for example we can start testing from a value of 0.0 and work our way up to a value of 20). Draw these values in a line diagram.</li>\n",
                "    <li>last, after training the Lasso model, if the results are not satisfactory, optimize it using one of the techniques seen in the module.</li>\n",
                "</ul>"
            ]
        },
        {
            "cell_type": "code",
            "execution_count": 1,
            "metadata": {},
            "outputs": [],
            "source": [
                "# Your code here"
            ]
        },
        {
            "cell_type": "markdown",
            "metadata": {},
            "source": [
                "<h3 id=\"step2\" style=\"font-family: Comic Sans MS; color: #68FF33\">2. Exploration and data cleaning</h3>\n",
                "<p style=\"color: pink\">We will conduct a concise Exploratory Data Analysis (EDA), focusing on essential aspects without delving into intricate details.</p>"
            ]
        },
        {
            "cell_type": "code",
            "execution_count": null,
            "metadata": {},
            "outputs": [],
            "source": []
        },
        {
            "cell_type": "markdown",
            "metadata": {},
            "source": [
                "<h3 id=\"step3\" style=\"font-family: Comic Sans MS; color: #68FF33\">3. Analysis of univariate variables</h3>\n",
                "<strong><span style=\"color: red\">Analysis of categorical variables</span></strong>"
            ]
        },
        {
            "cell_type": "code",
            "execution_count": null,
            "metadata": {},
            "outputs": [],
            "source": []
        },
        {
            "cell_type": "markdown",
            "metadata": {},
            "source": [
                "<strong><span style=\"color: red\">Analysis of numerical variables</span></strong>"
            ]
        },
        {
            "cell_type": "code",
            "execution_count": null,
            "metadata": {},
            "outputs": [],
            "source": []
        },
        {
            "cell_type": "markdown",
            "metadata": {},
            "source": [
                "<strong><span style=\"color: red\">Correlation Analysis</span></strong>"
            ]
        },
        {
            "cell_type": "code",
            "execution_count": null,
            "metadata": {},
            "outputs": [],
            "source": []
        },
        {
            "cell_type": "markdown",
            "metadata": {},
            "source": [
                "<h3 id=\"step4\" style=\"font-family: Comic Sans MS; color: #68FF33\">4. Feature engineering</h3>\n",
                "<strong><span style=\"color: red\">Min-Max scaler</span></strong>"
            ]
        },
        {
            "cell_type": "code",
            "execution_count": null,
            "metadata": {},
            "outputs": [],
            "source": []
        },
        {
            "cell_type": "markdown",
            "metadata": {},
            "source": [
                "<strong><span style=\"color: red\">Feature selection</span></strong>"
            ]
        },
        {
            "cell_type": "code",
            "execution_count": null,
            "metadata": {},
            "outputs": [],
            "source": []
        },
        {
            "cell_type": "markdown",
            "metadata": {},
            "source": [
                "<h3 id=\"step5\" style=\"font-family: Comic Sans MS; color: #68FF33\">5. Linear Regression: Model training and optimization</h3>\n",
                "<strong><span style=\"color: red\">Reading the processed dataset and plotting features</span></strong>"
            ]
        },
        {
            "cell_type": "code",
            "execution_count": null,
            "metadata": {},
            "outputs": [],
            "source": []
        },
        {
            "cell_type": "markdown",
            "metadata": {},
            "source": [
                "<strong><span style=\"color: red\">Initialization and training of the models</span></strong>"
            ]
        },
        {
            "cell_type": "code",
            "execution_count": null,
            "metadata": {},
            "outputs": [],
            "source": []
        },
        {
            "cell_type": "markdown",
            "metadata": {},
            "source": []
        }
    ],
    "metadata": {
        "kernelspec": {
            "display_name": "Python 3.8.13 64-bit ('3.8.13')",
            "language": "python",
            "name": "python3"
        },
        "language_info": {
            "codemirror_mode": {
                "name": "ipython",
                "version": 3
            },
            "file_extension": ".py",
            "mimetype": "text/x-python",
            "name": "python",
            "nbconvert_exporter": "python",
            "pygments_lexer": "ipython3",
            "version": "3.11.3"
        },
        "orig_nbformat": 4,
        "vscode": {
            "interpreter": {
                "hash": "110cc1dee26208153f2972f08a2ad52b6a56238dc66d48e87fb757ef2996db56"
            }
        }
    },
    "nbformat": 4,
    "nbformat_minor": 2
}
